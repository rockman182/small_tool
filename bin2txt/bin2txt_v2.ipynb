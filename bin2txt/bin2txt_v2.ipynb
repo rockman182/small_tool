{
 "cells": [
  {
   "cell_type": "code",
   "execution_count": 3,
   "metadata": {},
   "outputs": [],
   "source": [
    "##-------------------------------------------------------------\n",
    "## 2019/12/13 Rock\n",
    "## read a binary and write to txt in hex\n",
    "## modify MEM_WIDTH to match sram model mem width\n",
    "## input file : main_code.bin\n",
    "## output file : main_code.ini\n",
    "##-------------------------------------------------------------\n",
    "\n",
    "import array as arr\n",
    "import os\n",
    "MEM_WIDTH = 128  # unit: Byte, need match sram model mem width\n",
    "\n",
    "char_array = arr.array('B')   # 'B' data is unsigned char\n",
    "\n",
    "bin_file_data = open('.\\main_code.bin', 'rb')\n",
    "bin_file_size = os.path.getsize('.\\main_code.bin')\n",
    "main_core_file = open(\"main_code.ini\", \"w\")\n",
    "\n",
    "if(bin_file_size%MEM_WIDTH==0):\n",
    "   add_aditional_byte=0;\n",
    "else:\n",
    "   add_aditional_byte=MEM_WIDTH-bin_file_size%MEM_WIDTH;\n",
    "\n",
    "mem_row_sum=int((bin_file_size+add_aditional_byte)/MEM_WIDTH)\n",
    "\n",
    "char_array.fromfile(bin_file_data, bin_file_size)\n",
    "for x in range(add_aditional_byte):\n",
    "    char_array.append(0)\n",
    "    \n",
    "for row_count in range(mem_row_sum):\n",
    "    temp_line=''\n",
    "    for byte_count in range(MEM_WIDTH): \n",
    "        temp=hex(char_array[row_count*MEM_WIDTH+byte_count])\n",
    "        temp=temp[2:]         #remove 0x\n",
    "        temp=str(temp)\n",
    "        temp=temp.zfill(2)    #fill str to 2 byte\n",
    "        temp=temp[::-1]       #reverse nibble\n",
    "        temp_line+=temp\n",
    "    temp_line=temp_line[::-1] #reverse line\n",
    "    main_core_file.write(temp_line)\n",
    "    main_core_file.write('\\n')\n",
    "        \n",
    "main_core_file.close()\n",
    "bin_file_data.close()"
   ]
  }
 ],
 "metadata": {
  "kernelspec": {
   "display_name": "Python 3",
   "language": "python",
   "name": "python3"
  },
  "language_info": {
   "codemirror_mode": {
    "name": "ipython",
    "version": 3
   },
   "file_extension": ".py",
   "mimetype": "text/x-python",
   "name": "python",
   "nbconvert_exporter": "python",
   "pygments_lexer": "ipython3",
   "version": "3.6.5"
  }
 },
 "nbformat": 4,
 "nbformat_minor": 2
}
