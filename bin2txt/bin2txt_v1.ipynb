{
 "cells": [
  {
   "cell_type": "code",
   "execution_count": 17,
   "metadata": {},
   "outputs": [],
   "source": [
    "import array as arr\n",
    "import os\n",
    "\n",
    "char_array = arr.array('B')   # 'B' data is unsigned char\n",
    "\n",
    "bin_file_data = open('.\\hello.bin', 'rb')\n",
    "bin_file_size = os.path.getsize('.\\hello.bin')\n",
    "main_core_file = open(\"main_core.ini\", \"w\")\n",
    "temp_line=''\n",
    "\n",
    "if(bin_file_size%128==0):\n",
    "   add_aditional_byte=0;\n",
    "else:\n",
    "   add_aditional_byte=128-bin_file_size%128;\n",
    "\n",
    "mem_row_sum=int((bin_file_size+add_aditional_byte)/128)\n",
    "\n",
    "char_array.fromfile(bin_file_data, bin_file_size)\n",
    "for x in range(add_aditional_byte):\n",
    "    char_array.append(x)\n",
    "    \n",
    "for row_count in range(mem_row_sum):\n",
    "    temp_line=''\n",
    "    for byte_count in range(128): # for match sram model [1023:0] mem : 128Byte width\n",
    "        temp=hex(char_array[row_count*128+byte_count])\n",
    "        temp=temp[2:]\n",
    "        temp=str(temp)\n",
    "        temp=temp.zfill(2)\n",
    "        temp=temp[::-1]   #reverse nibble\n",
    "        temp_line+=temp\n",
    "    temp_line=temp_line[::-1] #reverse line\n",
    "    main_core_file.write(temp_line)\n",
    "    main_core_file.write('\\n')\n",
    "        \n",
    "main_core_file.close()"
   ]
  }
 ],
 "metadata": {
  "kernelspec": {
   "display_name": "Python 3",
   "language": "python",
   "name": "python3"
  },
  "language_info": {
   "codemirror_mode": {
    "name": "ipython",
    "version": 3
   },
   "file_extension": ".py",
   "mimetype": "text/x-python",
   "name": "python",
   "nbconvert_exporter": "python",
   "pygments_lexer": "ipython3",
   "version": "3.6.5"
  }
 },
 "nbformat": 4,
 "nbformat_minor": 2
}
